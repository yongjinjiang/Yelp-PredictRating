{
 "cells": [
  {
   "cell_type": "markdown",
   "metadata": {},
   "source": [
    "# Yelp Data Challenge \n",
    "## Part II - NLP"
   ]
  },
  {
   "cell_type": "code",
   "execution_count": 1,
   "metadata": {},
   "outputs": [],
   "source": [
    "import pandas as pd\n",
    "import numpy as np"
   ]
  },
  {
   "cell_type": "code",
   "execution_count": 2,
   "metadata": {},
   "outputs": [],
   "source": [
    "df = pd.read_csv('yelp_dataset/last_3_years_restaurant_reviews.csv')"
   ]
  },
  {
   "cell_type": "code",
   "execution_count": 3,
   "metadata": {},
   "outputs": [
    {
     "data": {
      "text/html": [
       "<div>\n",
       "<style scoped>\n",
       "    .dataframe tbody tr th:only-of-type {\n",
       "        vertical-align: middle;\n",
       "    }\n",
       "\n",
       "    .dataframe tbody tr th {\n",
       "        vertical-align: top;\n",
       "    }\n",
       "\n",
       "    .dataframe thead th {\n",
       "        text-align: right;\n",
       "    }\n",
       "</style>\n",
       "<table border=\"1\" class=\"dataframe\">\n",
       "  <thead>\n",
       "    <tr style=\"text-align: right;\">\n",
       "      <th></th>\n",
       "      <th>Unnamed: 0</th>\n",
       "      <th>business_id</th>\n",
       "      <th>name</th>\n",
       "      <th>categories</th>\n",
       "      <th>avg_stars</th>\n",
       "      <th>cool</th>\n",
       "      <th>date</th>\n",
       "      <th>funny</th>\n",
       "      <th>review_id</th>\n",
       "      <th>stars</th>\n",
       "      <th>text</th>\n",
       "      <th>useful</th>\n",
       "      <th>user_id</th>\n",
       "    </tr>\n",
       "  </thead>\n",
       "  <tbody>\n",
       "    <tr>\n",
       "      <th>0</th>\n",
       "      <td>1</td>\n",
       "      <td>--9e1ONYQuAa-CB_Rrw7Tw</td>\n",
       "      <td>Delmonico Steakhouse</td>\n",
       "      <td>Steakhouses, Restaurants, Cajun/Creole</td>\n",
       "      <td>4.0</td>\n",
       "      <td>0</td>\n",
       "      <td>2017-02-14</td>\n",
       "      <td>0</td>\n",
       "      <td>VETXTwMw6qxzOVDlXfe6Tg</td>\n",
       "      <td>5</td>\n",
       "      <td>went for dinner tonight. Amazing my husband ha...</td>\n",
       "      <td>0</td>\n",
       "      <td>ymlnR8UeFvB4FZL56tCZsA</td>\n",
       "    </tr>\n",
       "    <tr>\n",
       "      <th>1</th>\n",
       "      <td>6</td>\n",
       "      <td>--9e1ONYQuAa-CB_Rrw7Tw</td>\n",
       "      <td>Delmonico Steakhouse</td>\n",
       "      <td>Steakhouses, Restaurants, Cajun/Creole</td>\n",
       "      <td>4.0</td>\n",
       "      <td>0</td>\n",
       "      <td>2017-12-04</td>\n",
       "      <td>0</td>\n",
       "      <td>S8-8uZ7fa5YbjnEtaW15ng</td>\n",
       "      <td>5</td>\n",
       "      <td>This was an amazing dinning experience! ORDER ...</td>\n",
       "      <td>0</td>\n",
       "      <td>9pSSL6X6lFpY3FCRLEH3og</td>\n",
       "    </tr>\n",
       "    <tr>\n",
       "      <th>2</th>\n",
       "      <td>14</td>\n",
       "      <td>--9e1ONYQuAa-CB_Rrw7Tw</td>\n",
       "      <td>Delmonico Steakhouse</td>\n",
       "      <td>Steakhouses, Restaurants, Cajun/Creole</td>\n",
       "      <td>4.0</td>\n",
       "      <td>0</td>\n",
       "      <td>2016-08-22</td>\n",
       "      <td>1</td>\n",
       "      <td>1nK5w0VNfDlnR3bOz13dJQ</td>\n",
       "      <td>5</td>\n",
       "      <td>My husband and I went there for lunch on a Sat...</td>\n",
       "      <td>1</td>\n",
       "      <td>gm8nNoA3uB4In5o_Hxpq3g</td>\n",
       "    </tr>\n",
       "    <tr>\n",
       "      <th>3</th>\n",
       "      <td>15</td>\n",
       "      <td>--9e1ONYQuAa-CB_Rrw7Tw</td>\n",
       "      <td>Delmonico Steakhouse</td>\n",
       "      <td>Steakhouses, Restaurants, Cajun/Creole</td>\n",
       "      <td>4.0</td>\n",
       "      <td>0</td>\n",
       "      <td>2016-09-13</td>\n",
       "      <td>0</td>\n",
       "      <td>N1Z93BthdJ7FT2p5S22jIA</td>\n",
       "      <td>3</td>\n",
       "      <td>Went for a nice anniversary dinner. Researched...</td>\n",
       "      <td>0</td>\n",
       "      <td>CEtidlXNyQzgJSdF1ubPFw</td>\n",
       "    </tr>\n",
       "    <tr>\n",
       "      <th>4</th>\n",
       "      <td>27</td>\n",
       "      <td>--9e1ONYQuAa-CB_Rrw7Tw</td>\n",
       "      <td>Delmonico Steakhouse</td>\n",
       "      <td>Steakhouses, Restaurants, Cajun/Creole</td>\n",
       "      <td>4.0</td>\n",
       "      <td>0</td>\n",
       "      <td>2016-08-08</td>\n",
       "      <td>0</td>\n",
       "      <td>ir-EVhHyWna7KqYWtj660g</td>\n",
       "      <td>5</td>\n",
       "      <td>Hands down the best meal and service I have ev...</td>\n",
       "      <td>0</td>\n",
       "      <td>9_BhDyzJYf2JwTD9TyXJ4g</td>\n",
       "    </tr>\n",
       "  </tbody>\n",
       "</table>\n",
       "</div>"
      ],
      "text/plain": [
       "   Unnamed: 0             business_id                  name  \\\n",
       "0           1  --9e1ONYQuAa-CB_Rrw7Tw  Delmonico Steakhouse   \n",
       "1           6  --9e1ONYQuAa-CB_Rrw7Tw  Delmonico Steakhouse   \n",
       "2          14  --9e1ONYQuAa-CB_Rrw7Tw  Delmonico Steakhouse   \n",
       "3          15  --9e1ONYQuAa-CB_Rrw7Tw  Delmonico Steakhouse   \n",
       "4          27  --9e1ONYQuAa-CB_Rrw7Tw  Delmonico Steakhouse   \n",
       "\n",
       "                               categories  avg_stars  cool        date  funny  \\\n",
       "0  Steakhouses, Restaurants, Cajun/Creole        4.0     0  2017-02-14      0   \n",
       "1  Steakhouses, Restaurants, Cajun/Creole        4.0     0  2017-12-04      0   \n",
       "2  Steakhouses, Restaurants, Cajun/Creole        4.0     0  2016-08-22      1   \n",
       "3  Steakhouses, Restaurants, Cajun/Creole        4.0     0  2016-09-13      0   \n",
       "4  Steakhouses, Restaurants, Cajun/Creole        4.0     0  2016-08-08      0   \n",
       "\n",
       "                review_id  stars  \\\n",
       "0  VETXTwMw6qxzOVDlXfe6Tg      5   \n",
       "1  S8-8uZ7fa5YbjnEtaW15ng      5   \n",
       "2  1nK5w0VNfDlnR3bOz13dJQ      5   \n",
       "3  N1Z93BthdJ7FT2p5S22jIA      3   \n",
       "4  ir-EVhHyWna7KqYWtj660g      5   \n",
       "\n",
       "                                                text  useful  \\\n",
       "0  went for dinner tonight. Amazing my husband ha...       0   \n",
       "1  This was an amazing dinning experience! ORDER ...       0   \n",
       "2  My husband and I went there for lunch on a Sat...       1   \n",
       "3  Went for a nice anniversary dinner. Researched...       0   \n",
       "4  Hands down the best meal and service I have ev...       0   \n",
       "\n",
       "                  user_id  \n",
       "0  ymlnR8UeFvB4FZL56tCZsA  \n",
       "1  9pSSL6X6lFpY3FCRLEH3og  \n",
       "2  gm8nNoA3uB4In5o_Hxpq3g  \n",
       "3  CEtidlXNyQzgJSdF1ubPFw  \n",
       "4  9_BhDyzJYf2JwTD9TyXJ4g  "
      ]
     },
     "execution_count": 3,
     "metadata": {},
     "output_type": "execute_result"
    }
   ],
   "source": [
    "df.head()"
   ]
  },
  {
   "cell_type": "code",
   "execution_count": 4,
   "metadata": {},
   "outputs": [
    {
     "data": {
      "text/plain": [
       "(558887, 13)"
      ]
     },
     "execution_count": 4,
     "metadata": {},
     "output_type": "execute_result"
    }
   ],
   "source": [
    "df.shape"
   ]
  },
  {
   "cell_type": "code",
   "execution_count": 5,
   "metadata": {},
   "outputs": [],
   "source": [
    "df['review_cnt'] = df.groupby(['business_id'])['review_id'].transform('count')"
   ]
  },
  {
   "cell_type": "code",
   "execution_count": 6,
   "metadata": {},
   "outputs": [
    {
     "data": {
      "text/plain": [
       "0.50     292.0\n",
       "0.75     609.0\n",
       "0.90    1289.0\n",
       "Name: review_cnt, dtype: float64"
      ]
     },
     "execution_count": 6,
     "metadata": {},
     "output_type": "execute_result"
    }
   ],
   "source": [
    "df['review_cnt'].quantile(q=[0.5,0.75,0.90])"
   ]
  },
  {
   "cell_type": "code",
   "execution_count": 7,
   "metadata": {},
   "outputs": [],
   "source": [
    "import matplotlib.pyplot as plt\n",
    "\n",
    "% matplotlib inline"
   ]
  },
  {
   "cell_type": "code",
   "execution_count": 8,
   "metadata": {},
   "outputs": [
    {
     "data": {
      "text/plain": [
       "<matplotlib.axes._subplots.AxesSubplot at 0x10df41090>"
      ]
     },
     "execution_count": 8,
     "metadata": {},
     "output_type": "execute_result"
    },
    {
     "data": {
      "image/png": "[encoded data removed]",
      "text/plain": [
       "<matplotlib.figure.Figure at 0x10df10c50>"
      ]
     },
     "metadata": {},
     "output_type": "display_data"
    }
   ],
   "source": [
    "df['review_cnt'].value_counts().plot.hist()"
   ]
  },
  {
   "cell_type": "markdown",
   "metadata": {},
   "source": [
    "### Define feature variables, here is the text of the review"
   ]
  },
  {
   "cell_type": "code",
   "execution_count": 9,
   "metadata": {},
   "outputs": [],
   "source": [
    "documents = df['text']"
   ]
  },
  {
   "cell_type": "code",
   "execution_count": 10,
   "metadata": {},
   "outputs": [],
   "source": [
    "# get non na indx\n",
    "indx = pd.notnull(documents)"
   ]
  },
  {
   "cell_type": "code",
   "execution_count": 11,
   "metadata": {},
   "outputs": [],
   "source": [
    "documents = documents[indx]"
   ]
  },
  {
   "cell_type": "code",
   "execution_count": 12,
   "metadata": {},
   "outputs": [],
   "source": [
    "# Take the values of the column that contains review text data, save to a variable named \"documents\"\n",
    "documents = documents.values"
   ]
  },
  {
   "cell_type": "code",
   "execution_count": 13,
   "metadata": {},
   "outputs": [
    {
     "data": {
      "text/plain": [
       "array([\"went for dinner tonight. Amazing my husband had lobster bisque and the T bone both were delish.I had the French onion soup and the pan seared duck. Cooked to perfection and I'm still raving about the flavor. If you are ever in Vegas this is a must try.\",\n",
       "       'This was an amazing dinning experience! ORDER THE PORK CHOP! I will definitely return.',\n",
       "       \"My husband and I went there for lunch on a Saturday. We had a physically exhausting week so we decided to treat ourselves. But it hasn't always been easy for our allergy whenever we ate out. So we called Delmonico ahead to see if they can accommodate our special needs. The lady who answered our call was very courteous and we felt comfortable to try after having some answers from her.\\nAs we arrived, the restaurant has a comfortable ambience. I wouldn't say it is grand or special but just comfortable. When it was time to order, the server was courteous regarding our allergy too and I believe the one who took care of us was a manager. He even checked with the chef to make sure the complimentary popover was okay for us to consume. We told them we are allergic to soy, corn, peanut, tomato and pork products, and some other stuff, and he had been very mindful and advised accordingly as we ordered, he did it so graciously that we didn't feel being put in a spot. Some other semi high end restaurants had given us a startled face or even an uncomfortable face when we mentioned our allergy, but this manager was super professional that he didn't make us feel crappy about our differences from others. So he made a potential stressful situation easy for us, very impressive.\\nTheir steak was aged in house by the restaurant and we think their aging was done fabulously as there was no rotten smell or taste in it. The manager even double checked with us and informed us that the beef was sourced from corn fed cows and asked if we would be able to tolerate that. And we made our decision to say yes and went ahead with the steak. Their steaks were very delicious. We actually asked for medium well with no seasoning and the steak still came out super delicious and juicy. So the good quality is in the steak itself and didn't need to depend on seasoning or being served bloodily. Again, very impressive.\\nAnyway, it was a delicious meal and we were well taken care of so we didn't get sick from any event of undisclosed allergens. We are very happy with this meal. We would go back when we have another time wanting to treat ourselves again. Hopefully the manager will be there again the next time we visit.\",\n",
       "       \"Went for a nice anniversary dinner. Researched a lot of steakhouses and thought this was reasonably priced (compared to others) for Vegas so thought we'd give it a shot. made reservations but was not crowded on a Monday night. We split the bbq shrimp which were very good for an appetizer. Then we each had salads. I ordered the filet mignon which was a small 6oz serving for $50. I could've easily eaten 2 of them. But the steak was very tender and nicely seasoned. Husband had the bone in ribeye which is what they are known for. He enjoyed it. We split the mashed potatoes which were very good, but kinda hard to screw those up. We each had 1 drink and the bill was $200. Service was good. They give you nice warm rolls which were tasty. We would go back, but we like trying new places and it will probably be a few years before we go back to Vegas anyways.\",\n",
       "       'Hands down the best meal and service I have ever had! We all did the three course special which was great and the portions were triple the size what I thought they would be! Michael and Drew were awesome waiters and made sure everything was perfect. I know my family will talk about that night for years to come!'],\n",
       "      dtype=object)"
      ]
     },
     "execution_count": 13,
     "metadata": {},
     "output_type": "execute_result"
    }
   ],
   "source": [
    "# inspect your documents, e.g. check the size, take a peek at elements of the numpy array\n",
    "documents[:5]"
   ]
  },
  {
   "cell_type": "markdown",
   "metadata": {},
   "source": [
    "### Define target variable (any categorical variable that may be meaningful)"
   ]
  },
  {
   "cell_type": "markdown",
   "metadata": {},
   "source": [
    "#### For example, I am interested in perfect (5 stars) and imperfect (1-4 stars) rating"
   ]
  },
  {
   "cell_type": "code",
   "execution_count": 14,
   "metadata": {},
   "outputs": [
    {
     "name": "stdout",
     "output_type": "stream",
     "text": [
      "<class 'pandas.core.frame.DataFrame'>\n",
      "RangeIndex: 558887 entries, 0 to 558886\n",
      "Data columns (total 14 columns):\n",
      "Unnamed: 0     558887 non-null int64\n",
      "business_id    558887 non-null object\n",
      "name           558887 non-null object\n",
      "categories     558887 non-null object\n",
      "avg_stars      558887 non-null float64\n",
      "cool           558887 non-null int64\n",
      "date           558887 non-null object\n",
      "funny          558887 non-null int64\n",
      "review_id      558887 non-null object\n",
      "stars          558887 non-null int64\n",
      "text           558887 non-null object\n",
      "useful         558887 non-null int64\n",
      "user_id        558887 non-null object\n",
      "review_cnt     558887 non-null int64\n",
      "dtypes: float64(1), int64(6), object(7)\n",
      "memory usage: 59.7+ MB\n"
     ]
    }
   ],
   "source": [
    "df.info()"
   ]
  },
  {
   "cell_type": "code",
   "execution_count": 15,
   "metadata": {},
   "outputs": [
    {
     "data": {
      "text/html": [
       "<div>\n",
       "<style scoped>\n",
       "    .dataframe tbody tr th:only-of-type {\n",
       "        vertical-align: middle;\n",
       "    }\n",
       "\n",
       "    .dataframe tbody tr th {\n",
       "        vertical-align: top;\n",
       "    }\n",
       "\n",
       "    .dataframe thead th {\n",
       "        text-align: right;\n",
       "    }\n",
       "</style>\n",
       "<table border=\"1\" class=\"dataframe\">\n",
       "  <thead>\n",
       "    <tr style=\"text-align: right;\">\n",
       "      <th></th>\n",
       "      <th>avg_stars</th>\n",
       "      <th>stars</th>\n",
       "      <th>cool</th>\n",
       "      <th>funny</th>\n",
       "      <th>useful</th>\n",
       "    </tr>\n",
       "  </thead>\n",
       "  <tbody>\n",
       "    <tr>\n",
       "      <th>count</th>\n",
       "      <td>558887.000000</td>\n",
       "      <td>558887.000000</td>\n",
       "      <td>558887.000000</td>\n",
       "      <td>558887.000000</td>\n",
       "      <td>558887.000000</td>\n",
       "    </tr>\n",
       "    <tr>\n",
       "      <th>mean</th>\n",
       "      <td>3.837571</td>\n",
       "      <td>3.830969</td>\n",
       "      <td>0.601354</td>\n",
       "      <td>0.440094</td>\n",
       "      <td>0.961928</td>\n",
       "    </tr>\n",
       "    <tr>\n",
       "      <th>std</th>\n",
       "      <td>0.596554</td>\n",
       "      <td>1.426476</td>\n",
       "      <td>2.949648</td>\n",
       "      <td>2.237619</td>\n",
       "      <td>3.448605</td>\n",
       "    </tr>\n",
       "    <tr>\n",
       "      <th>min</th>\n",
       "      <td>1.000000</td>\n",
       "      <td>1.000000</td>\n",
       "      <td>0.000000</td>\n",
       "      <td>0.000000</td>\n",
       "      <td>0.000000</td>\n",
       "    </tr>\n",
       "    <tr>\n",
       "      <th>25%</th>\n",
       "      <td>3.500000</td>\n",
       "      <td>3.000000</td>\n",
       "      <td>0.000000</td>\n",
       "      <td>0.000000</td>\n",
       "      <td>0.000000</td>\n",
       "    </tr>\n",
       "    <tr>\n",
       "      <th>50%</th>\n",
       "      <td>4.000000</td>\n",
       "      <td>4.000000</td>\n",
       "      <td>0.000000</td>\n",
       "      <td>0.000000</td>\n",
       "      <td>0.000000</td>\n",
       "    </tr>\n",
       "    <tr>\n",
       "      <th>75%</th>\n",
       "      <td>4.000000</td>\n",
       "      <td>5.000000</td>\n",
       "      <td>0.000000</td>\n",
       "      <td>0.000000</td>\n",
       "      <td>1.000000</td>\n",
       "    </tr>\n",
       "    <tr>\n",
       "      <th>max</th>\n",
       "      <td>5.000000</td>\n",
       "      <td>5.000000</td>\n",
       "      <td>227.000000</td>\n",
       "      <td>202.000000</td>\n",
       "      <td>236.000000</td>\n",
       "    </tr>\n",
       "  </tbody>\n",
       "</table>\n",
       "</div>"
      ],
      "text/plain": [
       "           avg_stars          stars           cool          funny  \\\n",
       "count  558887.000000  558887.000000  558887.000000  558887.000000   \n",
       "mean        3.837571       3.830969       0.601354       0.440094   \n",
       "std         0.596554       1.426476       2.949648       2.237619   \n",
       "min         1.000000       1.000000       0.000000       0.000000   \n",
       "25%         3.500000       3.000000       0.000000       0.000000   \n",
       "50%         4.000000       4.000000       0.000000       0.000000   \n",
       "75%         4.000000       5.000000       0.000000       0.000000   \n",
       "max         5.000000       5.000000     227.000000     202.000000   \n",
       "\n",
       "              useful  \n",
       "count  558887.000000  \n",
       "mean        0.961928  \n",
       "std         3.448605  \n",
       "min         0.000000  \n",
       "25%         0.000000  \n",
       "50%         0.000000  \n",
       "75%         1.000000  \n",
       "max       236.000000  "
      ]
     },
     "execution_count": 15,
     "metadata": {},
     "output_type": "execute_result"
    }
   ],
   "source": [
    "#checking summary statisics for avg_star and stars\n",
    "var_list = [u'avg_stars',u'stars',u'cool',u'funny',u'useful']\n",
    "df[var_list].describe()"
   ]
  },
  {
   "cell_type": "code",
   "execution_count": 16,
   "metadata": {},
   "outputs": [],
   "source": [
    "# Make a column and take the values, save to a variable named \"target\"\n",
    "# tried cutoff >3, pos/neg around 7:3; cutoff > 4, pos/neg around 1:1\n",
    "#condition1 = (df['stars']>3)\n",
    "#df_reduced.drop(['is_pos_review'],axis=1,inplace=True)"
   ]
  },
  {
   "cell_type": "code",
   "execution_count": 17,
   "metadata": {},
   "outputs": [],
   "source": [
    "df['is_pos_review'] = (df['stars']>4)"
   ]
  },
  {
   "cell_type": "code",
   "execution_count": 18,
   "metadata": {},
   "outputs": [
    {
     "data": {
      "text/plain": [
       "False    0.518158\n",
       "True     0.481842\n",
       "Name: is_pos_review, dtype: float64"
      ]
     },
     "execution_count": 18,
     "metadata": {},
     "output_type": "execute_result"
    }
   ],
   "source": [
    "df['is_pos_review'].value_counts(normalize=True)"
   ]
  },
  {
   "cell_type": "code",
   "execution_count": 19,
   "metadata": {},
   "outputs": [],
   "source": [
    "target = df['is_pos_review'].values"
   ]
  },
  {
   "cell_type": "code",
   "execution_count": 20,
   "metadata": {},
   "outputs": [],
   "source": [
    "target = target[indx]"
   ]
  },
  {
   "cell_type": "code",
   "execution_count": 21,
   "metadata": {},
   "outputs": [
    {
     "data": {
      "text/plain": [
       "array([ True,  True,  True, False,  True,  True,  True,  True, False,\n",
       "        True])"
      ]
     },
     "execution_count": 21,
     "metadata": {},
     "output_type": "execute_result"
    }
   ],
   "source": [
    "target[:10]"
   ]
  },
  {
   "cell_type": "markdown",
   "metadata": {},
   "source": [
    "#### You may want to look at the statistic of the target variable"
   ]
  },
  {
   "cell_type": "code",
   "execution_count": 24,
   "metadata": {},
   "outputs": [
    {
     "data": {
      "text/plain": [
       "4.0331309530440596"
      ]
     },
     "execution_count": 24,
     "metadata": {},
     "output_type": "execute_result"
    }
   ],
   "source": [
    "# To be implemented\n",
    "#checking positive reviews's avg_stars rating\n",
    "df[df['is_pos_review']==True]['avg_stars'].mean()"
   ]
  },
  {
   "cell_type": "code",
   "execution_count": 25,
   "metadata": {},
   "outputs": [
    {
     "data": {
      "text/plain": [
       "(558887, 558887)"
      ]
     },
     "execution_count": 25,
     "metadata": {},
     "output_type": "execute_result"
    }
   ],
   "source": [
    "documents.size,target.size"
   ]
  },
  {
   "cell_type": "markdown",
   "metadata": {},
   "source": [
    "## Let's create training dataset and test dataset"
   ]
  },
  {
   "cell_type": "code",
   "execution_count": 26,
   "metadata": {},
   "outputs": [
    {
     "name": "stderr",
     "output_type": "stream",
     "text": [
      "/Users/jieluo/anaconda2/lib/python2.7/site-packages/sklearn/cross_validation.py:41: DeprecationWarning: This module was deprecated in version 0.18 in favor of the model_selection module into which all the refactored classes and functions are moved. Also note that the interface of the new CV iterators are different from that of this module. This module will be removed in 0.20.\n",
      "  \"This module will be removed in 0.20.\", DeprecationWarning)\n"
     ]
    }
   ],
   "source": [
    "from sklearn.cross_validation import train_test_split"
   ]
  },
  {
   "cell_type": "code",
   "execution_count": 27,
   "metadata": {},
   "outputs": [],
   "source": [
    "# Documents is your X, target is your y\n",
    "# Now split the data to training set and test set"
   ]
  },
  {
   "cell_type": "code",
   "execution_count": 28,
   "metadata": {},
   "outputs": [],
   "source": [
    "# Split to documents_train, documents_test, target_train, target_test\n",
    "# using test_size 0.8 to reduce the training size due to computational cost\n",
    "documents_train,documents_test,target_train,target_test = train_test_split(documents,target,test_size=0.2, random_state=0)"
   ]
  },
  {
   "cell_type": "markdown",
   "metadata": {},
   "source": [
    "## Let's get NLP representation of the documents"
   ]
  },
  {
   "cell_type": "code",
   "execution_count": 29,
   "metadata": {},
   "outputs": [],
   "source": [
    "from sklearn.feature_extraction.text import TfidfVectorizer"
   ]
  },
  {
   "cell_type": "code",
   "execution_count": 30,
   "metadata": {},
   "outputs": [],
   "source": [
    "# Create TfidfVectorizer, and name it vectorizer\n",
    "vectorizer = TfidfVectorizer(stop_words='english',max_features=5000,min_df=1)"
   ]
  },
  {
   "cell_type": "code",
   "execution_count": 31,
   "metadata": {},
   "outputs": [],
   "source": [
    "# Train the model with your training data\n",
    "x_train = vectorizer.fit_transform(documents_train).toarray()"
   ]
  },
  {
   "cell_type": "code",
   "execution_count": 32,
   "metadata": {},
   "outputs": [],
   "source": [
    "# Get the vocab of your tfidf\n",
    "features_name = vectorizer.get_feature_names()"
   ]
  },
  {
   "cell_type": "code",
   "execution_count": 33,
   "metadata": {},
   "outputs": [],
   "source": [
    "# Use the trained model to transform your test data\n",
    "x_test = vectorizer.transform(documents_test).toarray()"
   ]
  },
  {
   "cell_type": "markdown",
   "metadata": {},
   "source": [
    "##### using 2-gram of words"
   ]
  },
  {
   "cell_type": "code",
   "execution_count": 34,
   "metadata": {},
   "outputs": [],
   "source": [
    "# Create TfidfVectorizer, and name it vectorizer\n",
    "vectorizer2 = TfidfVectorizer(stop_words='english',max_features=5000,min_df=1,ngram_range=(1, 2))\n",
    "x_train2 = vectorizer2.fit_transform(documents_train).toarray()\n",
    "features_name2 = vectorizer2.get_feature_names()\n",
    "x_test2 = vectorizer2.transform(documents_test).toarray()"
   ]
  },
  {
   "cell_type": "markdown",
   "metadata": {},
   "source": [
    "## Similar review search engine"
   ]
  },
  {
   "cell_type": "code",
   "execution_count": 35,
   "metadata": {},
   "outputs": [],
   "source": [
    "import numpy as np\n",
    "\n",
    "# We will need these helper methods pretty soon\n",
    "\n",
    "def get_top_values(lst, n, labels):\n",
    "    '''\n",
    "    INPUT: LIST, INTEGER, LIST\n",
    "    OUTPUT: LIST\n",
    "\n",
    "    Given a list of values, find the indices with the highest n values.\n",
    "    Return the labels for each of these indices.\n",
    "\n",
    "    e.g.\n",
    "    lst = [7, 3, 2, 4, 1]\n",
    "    n = 2\n",
    "    labels = [\"cat\", \"dog\", \"mouse\", \"pig\", \"rabbit\"]\n",
    "    output: [\"cat\", \"pig\"]\n",
    "    '''\n",
    "    return [labels[i] for i in np.argsort(lst)[::-1][:n]]  # np.argsort by default sorts values in ascending order\n",
    "\n",
    "def get_bottom_values(lst, n, labels):\n",
    "    '''\n",
    "    INPUT: LIST, INTEGER, LIST\n",
    "    OUTPUT: LIST\n",
    "\n",
    "    Given a list of values, find the indices with the lowest n values.\n",
    "    Return the labels for each of these indices.\n",
    "\n",
    "    e.g.\n",
    "    lst = [7, 3, 2, 4, 1]\n",
    "    n = 2\n",
    "    labels = [\"cat\", \"dog\", \"mouse\", \"pig\", \"rabbit\"]\n",
    "    output: [\"mouse\", \"rabbit\"]\n",
    "    '''\n",
    "    return [labels[i] for i in np.argsort(lst)[:n]]\n"
   ]
  },
  {
   "cell_type": "code",
   "execution_count": 36,
   "metadata": {},
   "outputs": [],
   "source": [
    "# Let's use cosine similarity\n",
    "from sklearn.metrics.pairwise import cosine_similarity"
   ]
  },
  {
   "cell_type": "code",
   "execution_count": 37,
   "metadata": {},
   "outputs": [
    {
     "data": {
      "text/plain": [
       "['In all fairness I am not a fan of fast food, but with 8 minutes to spare before my flight began boarding at gate C2 I figured this was my best bet to grab something quick... \\n\\nI ordered a whopper junior without meat (literally just the bun and standard accoutrements), a large order of fries, and a bottle of water. The guy who took my order told me I could not have a large order of fries - only medium - since that\\'s the way the meal came... I clarified and said I didn\\'t order the meal - he said it didn\\'t matter - this is what he rang up, and the meal comes with a medium order of fries... okay fine, whatever... He also asked me why I wanted a water since the meal came with a soda........... \\n\\nThe total for my \"meal\" was $13.85. For fast food that you can\\'t customize - even at an airport - this is a rip-off. (The minimum wage in Nevada is $8.25/hour). Just to compare to another chain in a different state - at Wendy\\'s at the Dallas Fort Worth airport in Texas you can get the same thing that I ordered here for $3.89... Lesson learned for me - I won\\'t consider Burger King a worthy option for my hard earned money, no matter how rushed / hungry / desperate I am. \\n\\nOn a positive note, my \"meal\" was ready in 5 minutes and I made it to my gate with a minute to spare.']"
      ]
     },
     "execution_count": 37,
     "metadata": {},
     "output_type": "execute_result"
    }
   ],
   "source": [
    "# Draw an arbitrary review from test (unseen in training) documents\n",
    "sample_review = [documents_test[10]]\n",
    "sample_review"
   ]
  },
  {
   "cell_type": "code",
   "execution_count": 38,
   "metadata": {},
   "outputs": [],
   "source": [
    "# Transform the drawn review(s) to vector(s)\n",
    "vector_review = vectorizer.transform(sample_review).toarray()"
   ]
  },
  {
   "cell_type": "code",
   "execution_count": 39,
   "metadata": {},
   "outputs": [],
   "source": [
    "vector_review2 = vectorizer2.transform(sample_review).toarray()"
   ]
  },
  {
   "cell_type": "code",
   "execution_count": 40,
   "metadata": {},
   "outputs": [],
   "source": [
    "# Calculate the similarity score(s) between vector(s) and training vectors\n",
    "similarity_scores = cosine_similarity(vector_review, x_test[:100])"
   ]
  },
  {
   "cell_type": "code",
   "execution_count": 41,
   "metadata": {},
   "outputs": [],
   "source": [
    "similarity_scores2 = cosine_similarity(vector_review2,x_test2[:100])"
   ]
  },
  {
   "cell_type": "code",
   "execution_count": 42,
   "metadata": {},
   "outputs": [
    {
     "data": {
      "text/plain": [
       "array([0.04608687, 0.01329101, 0.02508309, 0.        , 0.03395274,\n",
       "       0.03127091, 0.02767003, 0.05882241, 0.03636423, 0.04897751,\n",
       "       1.        , 0.03486838, 0.03451679, 0.00557687, 0.00985423,\n",
       "       0.01024591, 0.07242841, 0.09216546, 0.01427506, 0.05235901,\n",
       "       0.06310268, 0.01865698, 0.04020689, 0.        , 0.10153174,\n",
       "       0.00391333, 0.02551222, 0.01942228, 0.        , 0.05318553,\n",
       "       0.03329955, 0.0144619 , 0.04109639, 0.06867114, 0.0860013 ,\n",
       "       0.08878456, 0.00862627, 0.05006797, 0.00613289, 0.00940672,\n",
       "       0.        , 0.0188028 , 0.06583869, 0.        , 0.02537102,\n",
       "       0.        , 0.01566739, 0.04563689, 0.0121663 , 0.02753151,\n",
       "       0.00544705, 0.12886495, 0.10718202, 0.02085973, 0.04485053,\n",
       "       0.0202851 , 0.00330039, 0.05826833, 0.05788075, 0.04514091,\n",
       "       0.00358333, 0.04482682, 0.06417873, 0.01471101, 0.13714524,\n",
       "       0.01635658, 0.04320894, 0.00658174, 0.05630024, 0.0491928 ,\n",
       "       0.01196531, 0.04092118, 0.        , 0.03461121, 0.04949865,\n",
       "       0.01484674, 0.10163953, 0.03989545, 0.03723848, 0.04323968,\n",
       "       0.00547443, 0.        , 0.11317057, 0.00833607, 0.01659472,\n",
       "       0.0430281 , 0.04726138, 0.02884249, 0.05012062, 0.02710447,\n",
       "       0.05171727, 0.0277451 , 0.01130133, 0.03750581, 0.01492978,\n",
       "       0.02296099, 0.        , 0.0584805 , 0.01681379, 0.05603225])"
      ]
     },
     "execution_count": 42,
     "metadata": {},
     "output_type": "execute_result"
    }
   ],
   "source": [
    "similarity_scores[0]"
   ]
  },
  {
   "cell_type": "code",
   "execution_count": 43,
   "metadata": {},
   "outputs": [],
   "source": [
    "# Let's find top 5 similar reviews\n",
    "n = 5\n",
    "top_similar_review = get_top_values(similarity_scores[0], n, documents_test[:100])"
   ]
  },
  {
   "cell_type": "code",
   "execution_count": 44,
   "metadata": {},
   "outputs": [],
   "source": [
    "n = 5\n",
    "top_similar_review2 = get_top_values(similarity_scores2[0],n,documents_test[:100])"
   ]
  },
  {
   "cell_type": "code",
   "execution_count": 45,
   "metadata": {},
   "outputs": [
    {
     "name": "stdout",
     "output_type": "stream",
     "text": [
      "Our search query:\n",
      "['In all fairness I am not a fan of fast food, but with 8 minutes to spare before my flight began boarding at gate C2 I figured this was my best bet to grab something quick... \\n\\nI ordered a whopper junior without meat (literally just the bun and standard accoutrements), a large order of fries, and a bottle of water. The guy who took my order told me I could not have a large order of fries - only medium - since that\\'s the way the meal came... I clarified and said I didn\\'t order the meal - he said it didn\\'t matter - this is what he rang up, and the meal comes with a medium order of fries... okay fine, whatever... He also asked me why I wanted a water since the meal came with a soda........... \\n\\nThe total for my \"meal\" was $13.85. For fast food that you can\\'t customize - even at an airport - this is a rip-off. (The minimum wage in Nevada is $8.25/hour). Just to compare to another chain in a different state - at Wendy\\'s at the Dallas Fort Worth airport in Texas you can get the same thing that I ordered here for $3.89... Lesson learned for me - I won\\'t consider Burger King a worthy option for my hard earned money, no matter how rushed / hungry / desperate I am. \\n\\nOn a positive note, my \"meal\" was ready in 5 minutes and I made it to my gate with a minute to spare.']\n"
     ]
    }
   ],
   "source": [
    "print('Our search query:')\n",
    "print(sample_review) # To be added"
   ]
  },
  {
   "cell_type": "code",
   "execution_count": 46,
   "metadata": {},
   "outputs": [
    {
     "name": "stdout",
     "output_type": "stream",
     "text": [
      "Most 5 similar reviews:\n",
      "top 0 review:\n",
      "In all fairness I am not a fan of fast food, but with 8 minutes to spare before my flight began boarding at gate C2 I figured this was my best bet to grab something quick... \n",
      "\n",
      "I ordered a whopper junior without meat (literally just the bun and standard accoutrements), a large order of fries, and a bottle of water. The guy who took my order told me I could not have a large order of fries - only medium - since that's the way the meal came... I clarified and said I didn't order the meal - he said it didn't matter - this is what he rang up, and the meal comes with a medium order of fries... okay fine, whatever... He also asked me why I wanted a water since the meal came with a soda........... \n",
      "\n",
      "The total for my \"meal\" was $13.85. For fast food that you can't customize - even at an airport - this is a rip-off. (The minimum wage in Nevada is $8.25/hour). Just to compare to another chain in a different state - at Wendy's at the Dallas Fort Worth airport in Texas you can get the same thing that I ordered here for $3.89... Lesson learned for me - I won't consider Burger King a worthy option for my hard earned money, no matter how rushed / hungry / desperate I am. \n",
      "\n",
      "On a positive note, my \"meal\" was ready in 5 minutes and I made it to my gate with a minute to spare.\n",
      "top 1 review:\n",
      "The service here is terrible.  I figured with the new look menu they might have figured to look at there staff because the reviews don't lie.  We waited for over 15 minutes for someone to come over to our table.  We said we were almost ready and while we were in the process to tell him for water he turned and walked away.  10 minutes later the showed back up and took our order. Then finally 10 minutes after that water showed up. So now 35 minutes in and we finally get water.  They bring out 1 of 5 dinners the next one showed up 10 minutes later. Dinner 3 showed up 3 minutes after #2. Dinner 4 & 5 finally showed up 5 minutes after that. So all in all 18 minutes from dinner #1 to dinner #5.  And they were soups. Ugh.\n",
      "\n",
      "Now the food. It is not fresh. Bean sprouts were wet and soggy no crunch at all. The soup has a thick layer of oil on top which makes the broth very greasy. The owner hangs around on her Facebook page. \n",
      "\n",
      "This is not a place I would I'll be visiting again.\n",
      "top 2 review:\n",
      "One star may be harsh, but I have had so many issues at this location over the year I have been going there that I feel it is deserved.  This location is the only one near my house and recently remodeled... I had hoped that remodle would fix the issues, but apperantly remodeling doesn't train inept employees.  This latest and greatest screw up was this morning... a quick stop through the drive thru to grab breakfast for me and a 5 year old... all I ordered was 2 Sausage McMuffins with egg and 2 hashed browns... $6 and change.. it actualy went quicly today which was surprising as this fast food is usually anything but.... paid, got my bag and we are back at our house in no time... we sit down to eat and guess what?  I have 2 hashed browns and ONE sandwich... that's right.. a SUPER simple order and they couldn't put 4 items in a bag.\n",
      "\n",
      "I worked fast food back in the day... I worked in food service for over 25 years... I know things happen, we're all human... but with I have to believe that I am not the only one having trouble here.. and taht is verified by their really low review score on here... in a year (since I moved here) I must have had 40% of my visits end badly... missing food items, wrong orders, horrible food (ever have a big mac where the bottom bun actually crunches its so old?  I have) and REALLY long waits in drive thru... if all this has happened to me in a year it has to be the norm at this place.\n",
      "\n",
      "I mean it's pretty simple.. look at a screen, grab TWO of the same breakfast sandwiched, Grab 2 hashed browns... that's it! \n",
      "\n",
      "So now I'm home... am I going to load the 5 year old back into the car and waste my gas and time to drive back to get a $2 sandwich?  No... so I call them.. first call I get a mechanical message that they arent available and to leave a message... guess they were busy ripping off and dissapointing other customers... How hard is it to train your people to, oh I don't know, maybe DOUBLE CHECK AN ORDER!??!!?  So I called again and got an answer... now I will say that the woman on the phone who said she was one of the managers was flustered, but nice and the first words out of her mouth was \"I am sorry\" which goes a long way for me... in fact that is the reason for a 2 star instead of 1 star rating... She said that I could come back and get the missing item or come in any day for it...  Fool me once, shame on you.. fool me 12 times, no way in hell I'm going back there... I will drive the other direction and 3 times as far to go to a different location from now on... \n",
      "\n",
      "I know this review won't stop you from going here.. but hopefullly you can learn and check your order befofre you leave... complain about poor quality food, let them know their employees are incompetent... Burger King isn't sounding so bad now, right?\n",
      "\n",
      "4/2/18 EDIT: Reduced to 1 star.  Wife went through drive thru on her way to work and ordered a large coke... that's all. She got the the first window and they asked what she ordered because they \"Forgot to put it in\"... so she told them and paid... the car in front of her had some sort of problem with their order so she had to wait well over 3 minutes extra.... she finally got the the second window got her drink and left, now late for work due to the delay... and.. her drink was a DIET coke... \n",
      "\n",
      "It's almost like we are being punk'd... how can EVERY visit be atotal screw up.. and how do you get a single drink order wrong after screwing up taking the order in the first place?  Just wrote corporate... this is crazy!\n",
      "\n",
      "4/19/18 UPDATE: got a voicemail from someone wanting more information. Private number, no call back number left, whatever.  Today's fail... drive thru... order 2 x sausage egg & cheese muffins, 2 x bacon egg and cheese biscuits, 3 hash browns and a large diet coke. Order taken was okay.  Paid... nothing horrible... got did pretty quick... got home.  Bag 1: 2 sausage, egg & cheese muffins... CHECK.... 3 hash browns... CHECK... bag 2... pancakes and sausage with all the fixin's... FAIL.. Soda, cherry coke... FAIL... my order was all I one big plastic bag, the pancakes on the bottom with the paper bag on top of it... the hash browns were in to of the now grease soaked napkins. \n",
      "\n",
      "I jusy don't understand how many of my orders can be so wrong... to be fair there have been a few visits between these last two I wrote about here where everything was okay,  nothing great but at least I got all the right food items... but the percentage of right orders to incorrect orders is still really low...  the saga continues.\n",
      "top 3 review:\n",
      "DO NOT EAT HERE OR FROM HERE! I ordered food from the the Eat24 app and it never showed up. After an hour I called, and was left on hold indefinitely. I tried to call 5 minutes later and the phone was off the hook. After an hour and a half, I called a girl answered. I explained my situation. She proceeded to tell me that the delivery driver went home and the other driver wouldn't be to work for 15 minutes and it would take another 15 minutes to get the food. I told her to cancel the order, but she told me I had already been charged. She did offer me a free dessert or soda. Do yourself a favor, go or order from anywhere else other than this establishment. Extremely poor customer service and unacceptable damage control. DO NOT EAT HERE OR FROM HERE!\n",
      "top 4 review:\n",
      "Yum! Had a late dinner here tonight with my hubby. They give you this amazing bucket of pizza popcorn to munch on while you wait. It's so addicting. We ordered the buffalo chicken dip for an app and it was amazing. The chips with it were so tasty. My hubs ordered one of the many Kobe beef burgers which he said was delicious and cooked perfectly. I had the chicken sandwich which comes with tomato, lettuce, slaw and home made chips on it. It was really tasty. Both were served with fries. We also ordered a side of onion rings that didn't disappoint. It was a great meal and it didn't break the bank, about $60.\n"
     ]
    }
   ],
   "source": [
    "print('Most %s similar reviews:' % n)\n",
    "for i in range(len(top_similar_review)):\n",
    "    print ('top %s review:' % i)\n",
    "    print (top_similar_review[i])\n",
    " # To be added"
   ]
  },
  {
   "cell_type": "code",
   "execution_count": 47,
   "metadata": {},
   "outputs": [
    {
     "name": "stdout",
     "output_type": "stream",
     "text": [
      "Most 5 similar reviews:\n",
      "top 0 review:\n",
      "In all fairness I am not a fan of fast food, but with 8 minutes to spare before my flight began boarding at gate C2 I figured this was my best bet to grab something quick... \n",
      "\n",
      "I ordered a whopper junior without meat (literally just the bun and standard accoutrements), a large order of fries, and a bottle of water. The guy who took my order told me I could not have a large order of fries - only medium - since that's the way the meal came... I clarified and said I didn't order the meal - he said it didn't matter - this is what he rang up, and the meal comes with a medium order of fries... okay fine, whatever... He also asked me why I wanted a water since the meal came with a soda........... \n",
      "\n",
      "The total for my \"meal\" was $13.85. For fast food that you can't customize - even at an airport - this is a rip-off. (The minimum wage in Nevada is $8.25/hour). Just to compare to another chain in a different state - at Wendy's at the Dallas Fort Worth airport in Texas you can get the same thing that I ordered here for $3.89... Lesson learned for me - I won't consider Burger King a worthy option for my hard earned money, no matter how rushed / hungry / desperate I am. \n",
      "\n",
      "On a positive note, my \"meal\" was ready in 5 minutes and I made it to my gate with a minute to spare.\n",
      "top 1 review:\n",
      "One star may be harsh, but I have had so many issues at this location over the year I have been going there that I feel it is deserved.  This location is the only one near my house and recently remodeled... I had hoped that remodle would fix the issues, but apperantly remodeling doesn't train inept employees.  This latest and greatest screw up was this morning... a quick stop through the drive thru to grab breakfast for me and a 5 year old... all I ordered was 2 Sausage McMuffins with egg and 2 hashed browns... $6 and change.. it actualy went quicly today which was surprising as this fast food is usually anything but.... paid, got my bag and we are back at our house in no time... we sit down to eat and guess what?  I have 2 hashed browns and ONE sandwich... that's right.. a SUPER simple order and they couldn't put 4 items in a bag.\n",
      "\n",
      "I worked fast food back in the day... I worked in food service for over 25 years... I know things happen, we're all human... but with I have to believe that I am not the only one having trouble here.. and taht is verified by their really low review score on here... in a year (since I moved here) I must have had 40% of my visits end badly... missing food items, wrong orders, horrible food (ever have a big mac where the bottom bun actually crunches its so old?  I have) and REALLY long waits in drive thru... if all this has happened to me in a year it has to be the norm at this place.\n",
      "\n",
      "I mean it's pretty simple.. look at a screen, grab TWO of the same breakfast sandwiched, Grab 2 hashed browns... that's it! \n",
      "\n",
      "So now I'm home... am I going to load the 5 year old back into the car and waste my gas and time to drive back to get a $2 sandwich?  No... so I call them.. first call I get a mechanical message that they arent available and to leave a message... guess they were busy ripping off and dissapointing other customers... How hard is it to train your people to, oh I don't know, maybe DOUBLE CHECK AN ORDER!??!!?  So I called again and got an answer... now I will say that the woman on the phone who said she was one of the managers was flustered, but nice and the first words out of her mouth was \"I am sorry\" which goes a long way for me... in fact that is the reason for a 2 star instead of 1 star rating... She said that I could come back and get the missing item or come in any day for it...  Fool me once, shame on you.. fool me 12 times, no way in hell I'm going back there... I will drive the other direction and 3 times as far to go to a different location from now on... \n",
      "\n",
      "I know this review won't stop you from going here.. but hopefullly you can learn and check your order befofre you leave... complain about poor quality food, let them know their employees are incompetent... Burger King isn't sounding so bad now, right?\n",
      "\n",
      "4/2/18 EDIT: Reduced to 1 star.  Wife went through drive thru on her way to work and ordered a large coke... that's all. She got the the first window and they asked what she ordered because they \"Forgot to put it in\"... so she told them and paid... the car in front of her had some sort of problem with their order so she had to wait well over 3 minutes extra.... she finally got the the second window got her drink and left, now late for work due to the delay... and.. her drink was a DIET coke... \n",
      "\n",
      "It's almost like we are being punk'd... how can EVERY visit be atotal screw up.. and how do you get a single drink order wrong after screwing up taking the order in the first place?  Just wrote corporate... this is crazy!\n",
      "\n",
      "4/19/18 UPDATE: got a voicemail from someone wanting more information. Private number, no call back number left, whatever.  Today's fail... drive thru... order 2 x sausage egg & cheese muffins, 2 x bacon egg and cheese biscuits, 3 hash browns and a large diet coke. Order taken was okay.  Paid... nothing horrible... got did pretty quick... got home.  Bag 1: 2 sausage, egg & cheese muffins... CHECK.... 3 hash browns... CHECK... bag 2... pancakes and sausage with all the fixin's... FAIL.. Soda, cherry coke... FAIL... my order was all I one big plastic bag, the pancakes on the bottom with the paper bag on top of it... the hash browns were in to of the now grease soaked napkins. \n",
      "\n",
      "I jusy don't understand how many of my orders can be so wrong... to be fair there have been a few visits between these last two I wrote about here where everything was okay,  nothing great but at least I got all the right food items... but the percentage of right orders to incorrect orders is still really low...  the saga continues.\n",
      "top 2 review:\n",
      "The service here is terrible.  I figured with the new look menu they might have figured to look at there staff because the reviews don't lie.  We waited for over 15 minutes for someone to come over to our table.  We said we were almost ready and while we were in the process to tell him for water he turned and walked away.  10 minutes later the showed back up and took our order. Then finally 10 minutes after that water showed up. So now 35 minutes in and we finally get water.  They bring out 1 of 5 dinners the next one showed up 10 minutes later. Dinner 3 showed up 3 minutes after #2. Dinner 4 & 5 finally showed up 5 minutes after that. So all in all 18 minutes from dinner #1 to dinner #5.  And they were soups. Ugh.\n",
      "\n",
      "Now the food. It is not fresh. Bean sprouts were wet and soggy no crunch at all. The soup has a thick layer of oil on top which makes the broth very greasy. The owner hangs around on her Facebook page. \n",
      "\n",
      "This is not a place I would I'll be visiting again.\n",
      "top 3 review:\n",
      "DO NOT EAT HERE OR FROM HERE! I ordered food from the the Eat24 app and it never showed up. After an hour I called, and was left on hold indefinitely. I tried to call 5 minutes later and the phone was off the hook. After an hour and a half, I called a girl answered. I explained my situation. She proceeded to tell me that the delivery driver went home and the other driver wouldn't be to work for 15 minutes and it would take another 15 minutes to get the food. I told her to cancel the order, but she told me I had already been charged. She did offer me a free dessert or soda. Do yourself a favor, go or order from anywhere else other than this establishment. Extremely poor customer service and unacceptable damage control. DO NOT EAT HERE OR FROM HERE!\n",
      "top 4 review:\n",
      "Never been more insulted,  a few minutes ago by Jeanine. Rude, unprofessional and didn't even give me 20 seconds to order,  she asked me to step aside because she had other people that wanted to order. What all two of the customers? If you are in customer service,  learn how to treat customers accordingly. I get it that you hate your job, but don't take it out on me.\n"
     ]
    }
   ],
   "source": [
    "print('Most %s similar reviews:' % n)\n",
    "for i in range(len(top_similar_review2)):\n",
    "    print ('top %s review:' % i)\n",
    "    print (top_similar_review2[i])"
   ]
  },
  {
   "cell_type": "markdown",
   "metadata": {},
   "source": [
    "#### Q: Does the result make sense to you?"
   ]
  },
  {
   "cell_type": "markdown",
   "metadata": {},
   "source": [
    "A: The top5 reviews captures some key elements for the sample review, such as casino, service,decor, cleaning; but the cosine similarity doesn't catch the meaning of sentence very well. The sample review is a strong postive review using double negative formatting, however the top 5 reviews are more on the negative side of the hotels/casino.\n",
    "\n",
    "Fitting 2 models using different grams, the result of top 5 reviews seem to be unchanged."
   ]
  },
  {
   "cell_type": "markdown",
   "metadata": {},
   "source": [
    "## Classifying positive/negative review"
   ]
  },
  {
   "cell_type": "markdown",
   "metadata": {},
   "source": [
    "### Helper Function"
   ]
  },
  {
   "cell_type": "code",
   "execution_count": 48,
   "metadata": {},
   "outputs": [],
   "source": [
    "from sklearn.metrics import precision_score,accuracy_score,recall_score,f1_score,roc_auc_score"
   ]
  },
  {
   "cell_type": "code",
   "execution_count": 49,
   "metadata": {},
   "outputs": [],
   "source": [
    "# Helper method to print metric scores    \n",
    "def get_performance_metrics(y_train, y_train_pred, y_test, y_test_pred, threshold=0.5):\n",
    "    metric_names = ['AUC','Accuracy','Precision','Recall','f1-score']\n",
    "    metric_values_train = [roc_auc_score(y_train, y_train_pred),\n",
    "                    accuracy_score(y_train, y_train_pred>threshold),\n",
    "                    precision_score(y_train, y_train_pred>threshold),\n",
    "                    recall_score(y_train, y_train_pred>threshold),\n",
    "                    f1_score(y_train, y_train_pred>threshold)\n",
    "                   ]\n",
    "    metric_values_test = [roc_auc_score(y_test, y_test_pred),\n",
    "                    accuracy_score(y_test, y_test_pred>threshold),\n",
    "                    precision_score(y_test, y_test_pred>threshold),\n",
    "                    recall_score(y_test, y_test_pred>threshold),\n",
    "                    f1_score(y_test, y_test_pred>threshold)\n",
    "                   ]\n",
    "    all_metrics = pd.DataFrame({'metrics':metric_names,\n",
    "                                'train':metric_values_train,\n",
    "                                'test':metric_values_test},columns=['metrics','train','test']).set_index('metrics')\n",
    "    print(all_metrics)"
   ]
  },
  {
   "cell_type": "code",
   "execution_count": 50,
   "metadata": {},
   "outputs": [],
   "source": [
    "#helper function to plot roc curve\n",
    "%matplotlib inline\n",
    "import matplotlib.pyplot as plt\n",
    "from sklearn.metrics import roc_curve, auc\n",
    "\n",
    "def plot_roc_curve(y_train, y_train_pred, y_test, y_test_pred):\n",
    "    roc_auc_train = roc_auc_score(y_train, y_train_pred)\n",
    "    fpr_train, tpr_train, _ = roc_curve(y_train, y_train_pred)\n",
    "\n",
    "    roc_auc_test = roc_auc_score(y_test, y_test_pred)\n",
    "    fpr_test, tpr_test, _ = roc_curve(y_test, y_test_pred)\n",
    "    plt.figure()\n",
    "    lw = 2\n",
    "    plt.plot(fpr_train, tpr_train, color='green',\n",
    "             lw=lw, label='ROC Train (AUC = %0.4f)' % roc_auc_train)\n",
    "    plt.plot(fpr_test, tpr_test, color='darkorange',\n",
    "             lw=lw, label='ROC Test (AUC = %0.4f)' % roc_auc_test)\n",
    "    plt.plot([0, 1], [0, 1], color='navy', lw=lw, linestyle='--')\n",
    "    plt.xlim([0.0, 1.0])\n",
    "    plt.ylim([0.0, 1.05])\n",
    "    plt.xlabel('False Positive Rate')\n",
    "    plt.ylabel('True Positive Rate')\n",
    "    plt.title('Receiver operating characteristic example')\n",
    "    plt.legend(loc=\"lower right\")\n",
    "    plt.show()"
   ]
  },
  {
   "cell_type": "code",
   "execution_count": 51,
   "metadata": {},
   "outputs": [],
   "source": [
    "# helper function to train models\n",
    "# define function to perform train, test, and get model performance\n",
    "def train_test_model(clf, X_train, y_train, X_test, y_test):\n",
    "    # Fit a model by providing X and y from training set\n",
    "    clf.fit(X_train, y_train)\n",
    "\n",
    "    # Make prediction on the training data\n",
    "    y_train_pred = clf.predict(X_train)\n",
    "    p_train_pred = clf.predict_proba(X_train)[:,1]\n",
    "\n",
    "    # Make predictions on test data\n",
    "    y_test_pred = clf.predict(X_test)\n",
    "    p_test_pred = clf.predict_proba(X_test)[:,1]\n",
    "\n",
    "    # print model results\n",
    "    get_performance_metrics(y_train, p_train_pred, y_test, p_test_pred)\n",
    "    plot_roc_curve(y_train, p_train_pred, y_test, p_test_pred)"
   ]
  },
  {
   "cell_type": "markdown",
   "metadata": {},
   "source": [
    "### Naive-Bayes Classifier"
   ]
  },
  {
   "cell_type": "code",
   "execution_count": 52,
   "metadata": {},
   "outputs": [
    {
     "data": {
      "text/plain": [
       "MultinomialNB(alpha=1.0, class_prior=None, fit_prior=True)"
      ]
     },
     "execution_count": 52,
     "metadata": {},
     "output_type": "execute_result"
    }
   ],
   "source": [
    "# Build a Naive-Bayes Classifier\n",
    "\n",
    "from sklearn.naive_bayes import MultinomialNB\n",
    "\n",
    "# Build a Naive-Bayes Classifier\n",
    "clf_nb = MultinomialNB()\n",
    "\n",
    "clf_nb.fit(x_train, target_train)"
   ]
  },
  {
   "cell_type": "code",
   "execution_count": 53,
   "metadata": {},
   "outputs": [
    {
     "name": "stdout",
     "output_type": "stream",
     "text": [
      "              train      test\n",
      "metrics                      \n",
      "AUC        0.891232  0.891345\n",
      "Accuracy   0.809505  0.809685\n",
      "Precision  0.782847  0.783309\n",
      "Recall     0.836374  0.837940\n",
      "f1-score   0.808726  0.809704\n"
     ]
    },
    {
     "data": {
      "image/png": "[encoded data removed]",
      "text/plain": [
       "<matplotlib.figure.Figure at 0x112ebd450>"
      ]
     },
     "metadata": {},
     "output_type": "display_data"
    }
   ],
   "source": [
    "# Get score for training set & test set\n",
    "train_test_model(clf_nb, x_train, target_train, x_test, target_test)"
   ]
  },
  {
   "cell_type": "markdown",
   "metadata": {},
   "source": [
    "### Logistic Regression Classifier"
   ]
  },
  {
   "cell_type": "code",
   "execution_count": 54,
   "metadata": {},
   "outputs": [
    {
     "data": {
      "text/plain": [
       "LogisticRegression(C=1.0, class_weight=None, dual=False, fit_intercept=True,\n",
       "          intercept_scaling=1, max_iter=100, multi_class='ovr', n_jobs=1,\n",
       "          penalty='l2', random_state=None, solver='liblinear', tol=0.0001,\n",
       "          verbose=0, warm_start=False)"
      ]
     },
     "execution_count": 54,
     "metadata": {},
     "output_type": "execute_result"
    }
   ],
   "source": [
    "# Build a Logistic Regression Classifier\n",
    "\n",
    "from sklearn.linear_model import LogisticRegression\n",
    "\n",
    "clf_lrc = LogisticRegression()\n",
    "\n",
    "clf_lrc.fit(x_train, target_train)"
   ]
  },
  {
   "cell_type": "code",
   "execution_count": 55,
   "metadata": {},
   "outputs": [
    {
     "name": "stdout",
     "output_type": "stream",
     "text": [
      "              train      test\n",
      "metrics                      \n",
      "AUC        0.919009  0.915228\n",
      "Accuracy   0.839880  0.836122\n",
      "Precision  0.822901  0.820203\n",
      "Recall     0.850495  0.846383\n",
      "f1-score   0.836471  0.833087\n"
     ]
    },
    {
     "data": {
      "image/png": "[encoded data removed]",
      "text/plain": [
       "<matplotlib.figure.Figure at 0x124dfe9d0>"
      ]
     },
     "metadata": {},
     "output_type": "display_data"
    }
   ],
   "source": [
    "# Get score for training set & test set\n",
    "train_test_model(clf_lrc, x_train, target_train, x_test, target_test)"
   ]
  },
  {
   "cell_type": "markdown",
   "metadata": {},
   "source": [
    "#### Q: What are the key features(words) that make the positive prediction?"
   ]
  },
  {
   "cell_type": "code",
   "execution_count": 56,
   "metadata": {},
   "outputs": [
    {
     "data": {
      "text/plain": [
       "[u'amazing',\n",
       " u'best',\n",
       " u'incredible',\n",
       " u'thank',\n",
       " u'heaven',\n",
       " u'awesome',\n",
       " u'phenomenal',\n",
       " u'delicious',\n",
       " u'perfect',\n",
       " u'highly',\n",
       " u'perfection',\n",
       " u'fantastic',\n",
       " u'excellent',\n",
       " u'favorite',\n",
       " u'great',\n",
       " u'love',\n",
       " u'outstanding',\n",
       " u'blown',\n",
       " u'omg',\n",
       " u'notch']"
      ]
     },
     "execution_count": 56,
     "metadata": {},
     "output_type": "execute_result"
    }
   ],
   "source": [
    "# Let's find it out by ranking\n",
    "n = 20\n",
    "get_top_values(clf_lrc.coef_[0], n, features_name)"
   ]
  },
  {
   "cell_type": "markdown",
   "metadata": {},
   "source": [
    "A: The top 20 words all positive adjective words. "
   ]
  },
  {
   "cell_type": "markdown",
   "metadata": {},
   "source": [
    "#### Q: What are the key features(words) that make the negative prediction?"
   ]
  },
  {
   "cell_type": "code",
   "execution_count": 57,
   "metadata": {},
   "outputs": [
    {
     "data": {
      "text/plain": [
       "[u'worst',\n",
       " u'horrible',\n",
       " u'disappointing',\n",
       " u'mediocre',\n",
       " u'terrible',\n",
       " u'ok',\n",
       " u'bland',\n",
       " u'rude',\n",
       " u'lacked',\n",
       " u'okay',\n",
       " u'slow',\n",
       " u'lacking',\n",
       " u'poisoning',\n",
       " u'poor',\n",
       " u'disgusting',\n",
       " u'awful',\n",
       " u'meh',\n",
       " u'overpriced',\n",
       " u'worse',\n",
       " u'average']"
      ]
     },
     "execution_count": 57,
     "metadata": {},
     "output_type": "execute_result"
    }
   ],
   "source": [
    "# Let's find it out by ranking\n",
    "n = 20\n",
    "get_bottom_values(clf_lrc.coef_[0], n, features_name)"
   ]
  },
  {
   "cell_type": "markdown",
   "metadata": {},
   "source": [
    "A: all the words are negative adjective words. "
   ]
  },
  {
   "cell_type": "markdown",
   "metadata": {},
   "source": [
    "### Random Forest Classifier"
   ]
  },
  {
   "cell_type": "code",
   "execution_count": 58,
   "metadata": {},
   "outputs": [
    {
     "data": {
      "text/plain": [
       "RandomForestClassifier(bootstrap=True, class_weight=None, criterion='gini',\n",
       "            max_depth=20, max_features='auto', max_leaf_nodes=None,\n",
       "            min_impurity_decrease=0.0, min_impurity_split=None,\n",
       "            min_samples_leaf=100, min_samples_split=2,\n",
       "            min_weight_fraction_leaf=0.0, n_estimators=10, n_jobs=1,\n",
       "            oob_score=False, random_state=None, verbose=0,\n",
       "            warm_start=False)"
      ]
     },
     "execution_count": 58,
     "metadata": {},
     "output_type": "execute_result"
    }
   ],
   "source": [
    "# Build a Random Forest Classifier\n",
    "\n",
    "from sklearn.ensemble import RandomForestClassifier\n",
    "\n",
    "clf_rfc = RandomForestClassifier(max_depth=20, n_estimators=10, min_samples_leaf=100)\n",
    "\n",
    "clf_rfc.fit(x_train, target_train)"
   ]
  },
  {
   "cell_type": "code",
   "execution_count": 59,
   "metadata": {},
   "outputs": [
    {
     "name": "stdout",
     "output_type": "stream",
     "text": [
      "              train      test\n",
      "metrics                      \n",
      "AUC        0.845068  0.842650\n",
      "Accuracy   0.763442  0.762646\n",
      "Precision  0.754446  0.754784\n",
      "Recall     0.754176  0.753624\n",
      "f1-score   0.754311  0.754204\n"
     ]
    },
    {
     "data": {
      "image/png": "[encoded data removed]",
      "text/plain": [
       "<matplotlib.figure.Figure at 0x1271031d0>"
      ]
     },
     "metadata": {},
     "output_type": "display_data"
    }
   ],
   "source": [
    "# Get score for training set & test set\n",
    "train_test_model(clf_rfc, x_train, target_train, x_test, target_test)"
   ]
  },
  {
   "cell_type": "markdown",
   "metadata": {},
   "source": [
    "#### Q: What do you see from the training score and the test score?"
   ]
  },
  {
   "cell_type": "markdown",
   "metadata": {},
   "source": [
    "A: Comparing the three classifiers, random frost has lowest accuracy and AUC for both train/test data. For different metrics, the train metric and test metric are quite close."
   ]
  },
  {
   "cell_type": "markdown",
   "metadata": {},
   "source": [
    "#### Q: Can you tell what features (words) are important by inspecting the RFC model?"
   ]
  },
  {
   "cell_type": "code",
   "execution_count": 60,
   "metadata": {},
   "outputs": [
    {
     "data": {
      "text/plain": [
       "[u'amazing',\n",
       " u'best',\n",
       " u'bad',\n",
       " u'ok',\n",
       " u'good',\n",
       " u'great',\n",
       " u'worst',\n",
       " u'wasn',\n",
       " u'pretty',\n",
       " u'minutes',\n",
       " u'decent',\n",
       " u'delicious',\n",
       " u'highly',\n",
       " u'favorite',\n",
       " u'like',\n",
       " u'awesome',\n",
       " u'terrible',\n",
       " u'told',\n",
       " u'did',\n",
       " u'said']"
      ]
     },
     "execution_count": 60,
     "metadata": {},
     "output_type": "execute_result"
    }
   ],
   "source": [
    "n = 20\n",
    "get_top_values(clf_rfc.feature_importances_, n, features_name)"
   ]
  },
  {
   "cell_type": "markdown",
   "metadata": {},
   "source": [
    "Compared to Logistic regression results, top 20 features in RF are mix of positive words and negative words. it also have some neutral words like (hotel, money...)"
   ]
  },
  {
   "cell_type": "markdown",
   "metadata": {},
   "source": [
    "## Additional Approach #1: Use cross validation to evaluate classifiers\n",
    "\n",
    "[sklearn cross validation](http://scikit-learn.org/stable/modules/cross_validation.html)"
   ]
  },
  {
   "cell_type": "code",
   "execution_count": 61,
   "metadata": {},
   "outputs": [],
   "source": [
    "# too slow, not used\n",
    "from sklearn.metrics import precision_score,accuracy_score,recall_score,f1_score,roc_auc_score\n",
    "from sklearn.model_selection import cross_val_score,KFold\n",
    "def get_scores(clf,X,y,num_folds=5):\n",
    "    metric_names = ['AUC','Accuracy','Precision','Recall','f1-score']\n",
    "    accuracy_score = cross_val_score(clf, X, y, cv=num_folds,scoring='accuracy')\n",
    "    auc_score = cross_val_score(clf, X, y, cv=num_folds,scoring='roc_auc')\n",
    "    pre_score = cross_val_score(clf, X, y, cv=num_folds,scoring='precision')\n",
    "    recall_score = cross_val_score(clf, X, y, cv=num_folds,scoring='recall')\n",
    "    f1_score = cross_val_score(clf, X, y, cv=num_folds,scoring='f1')  \n",
    "    metric_mean = [auc_score.mean(),accuracy_score.mean(),pre_score.mean(),recall_score.mean(),f1_score.mean()]\n",
    "    metric_std = [auc_score.std(),accuracy_score.std(),pre_score.std(),recall_score.std(),f1_score.std()]\n",
    "    all_metrics = pd.DataFrame({'metrics':metric_names,\n",
    "                                'cv_mean':metric_mean,\n",
    "                                'cv_std':metric_std},columns=['metrics','cv_mean','cv_std']).set_index('metrics')\n",
    "    print(all_metrics)"
   ]
  },
  {
   "cell_type": "code",
   "execution_count": 62,
   "metadata": {},
   "outputs": [],
   "source": [
    "from sklearn.metrics import precision_score,accuracy_score,recall_score,f1_score,roc_auc_score\n",
    "from sklearn.metrics import make_scorer\n",
    "from sklearn.model_selection import cross_validate\n",
    "def get_scores(clf,X,y,num_folds=5):\n",
    "    scoring = {'accuracy': make_scorer(accuracy_score),\n",
    "               'prec': 'precision',\n",
    "                'roc_auc': make_scorer(roc_auc_score),\n",
    "                'recall': make_scorer(recall_score),\n",
    "                'f1': make_scorer(f1_score)}\n",
    "    cv_results = cross_validate(clf, X, y, scoring=scoring,cv=num_folds,return_train_score=False)\n",
    "    return cv_results"
   ]
  },
  {
   "cell_type": "code",
   "execution_count": 63,
   "metadata": {},
   "outputs": [],
   "source": [
    "cv_metrics_nb = get_scores(clf_nb,x_train,target_train,num_folds=5)"
   ]
  },
  {
   "cell_type": "code",
   "execution_count": 64,
   "metadata": {},
   "outputs": [],
   "source": [
    "cv_metrics_lrc = get_scores(clf_lrc,x_train,target_train,num_folds=5)"
   ]
  },
  {
   "cell_type": "code",
   "execution_count": 65,
   "metadata": {},
   "outputs": [],
   "source": [
    "cv_metrics_rfc = get_scores(clf_rfc,x_train,target_train,num_folds=5)"
   ]
  },
  {
   "cell_type": "code",
   "execution_count": 66,
   "metadata": {},
   "outputs": [
    {
     "data": {
      "text/plain": [
       "{'fit_time': array([75.22614813, 77.34347892, 77.56201291, 76.28931093, 74.19868112]),\n",
       " 'score_time': array([9.52766085, 8.78242111, 9.25917506, 9.05888295, 8.30753183]),\n",
       " 'test_accuracy': array([0.80784371, 0.80730693, 0.80846995, 0.80820156, 0.807685  ]),\n",
       " 'test_f1': array([0.80693909, 0.80619946, 0.80796529, 0.8073852 , 0.80672968]),\n",
       " 'test_prec': array([0.78156967, 0.7816112 , 0.78105354, 0.78167268, 0.78154737]),\n",
       " 'test_recall': array([0.83401073, 0.83238498, 0.83679773, 0.83484683, 0.83358881]),\n",
       " 'test_roc_auc': array([0.80877718, 0.80820155, 0.8094805 , 0.80915209, 0.80860935])}"
      ]
     },
     "execution_count": 66,
     "metadata": {},
     "output_type": "execute_result"
    }
   ],
   "source": [
    "cv_metrics_nb"
   ]
  },
  {
   "cell_type": "code",
   "execution_count": 72,
   "metadata": {},
   "outputs": [
    {
     "data": {
      "text/plain": [
       "{'fit_time': array([70.90577221, 68.36279798, 73.9339211 , 76.92070007, 69.92208314]),\n",
       " 'score_time': array([5.32232881, 6.10080814, 7.53891778, 6.04081583, 6.32297492]),\n",
       " 'test_accuracy': array([0.83401176, 0.83441435, 0.83434725, 0.83327369, 0.83564263]),\n",
       " 'test_f1': array([0.8306193 , 0.83051177, 0.83078399, 0.82949256, 0.83189788]),\n",
       " 'test_prec': array([0.81648495, 0.81880558, 0.81747673, 0.81711054, 0.81955243]),\n",
       " 'test_recall': array([0.84525164, 0.84255754, 0.84453167, 0.84225561, 0.84462096]),\n",
       " 'test_roc_auc': array([0.83441273, 0.83470485, 0.83471057, 0.83359411, 0.83596302])}"
      ]
     },
     "execution_count": 72,
     "metadata": {},
     "output_type": "execute_result"
    }
   ],
   "source": [
    "cv_metrics_lrc"
   ]
  },
  {
   "cell_type": "code",
   "execution_count": 73,
   "metadata": {},
   "outputs": [
    {
     "data": {
      "text/plain": [
       "{'fit_time': array([174.62728906, 190.05464101, 178.25163102, 174.74052501,\n",
       "        167.23038411]),\n",
       " 'score_time': array([11.37148595, 11.65045285, 11.06738496, 10.6396389 , 10.68967199]),\n",
       " 'test_accuracy': array([0.75833687, 0.7599584 , 0.76769699, 0.76869227, 0.76356784]),\n",
       " 'test_f1': array([0.75610582, 0.75379374, 0.75552836, 0.75697904, 0.7575125 ]),\n",
       " 'test_prec': array([0.73543812, 0.74466301, 0.76583003, 0.76599691, 0.74827789]),\n",
       " 'test_recall': array([0.77796874, 0.76315117, 0.74550015, 0.74817103, 0.76697789]),\n",
       " 'test_roc_auc': array([0.75903721, 0.7600723 , 0.76690515, 0.7679602 , 0.76368953])}"
      ]
     },
     "execution_count": 73,
     "metadata": {},
     "output_type": "execute_result"
    }
   ],
   "source": [
    "cv_metrics_rfc"
   ]
  },
  {
   "cell_type": "markdown",
   "metadata": {},
   "source": [
    "CV scores are lower than single train/test split, but the model performance ranking is consistent with previous results. Logistic regression classifier > naive bayes > random forest"
   ]
  },
  {
   "cell_type": "markdown",
   "metadata": {},
   "source": [
    "## Additional Approach #2: Use grid methods to find best predictable classifier\n",
    "\n",
    "\n",
    "[sklearn grid search tutorial (with cross validation)](http://scikit-learn.org/stable/modules/grid_search.html#grid-search)\n",
    "\n",
    "[sklearn grid search documentation (with cross validation)](http://scikit-learn.org/stable/modules/generated/sklearn.model_selection.GridSearchCV.html#sklearn.model_selection.GridSearchCV)"
   ]
  },
  {
   "cell_type": "markdown",
   "metadata": {},
   "source": [
    "### Logistic Regression Classifier"
   ]
  },
  {
   "cell_type": "code",
   "execution_count": 74,
   "metadata": {},
   "outputs": [
    {
     "data": {
      "text/plain": [
       "LogisticRegression(C=0.5, class_weight=None, dual=False, fit_intercept=True,\n",
       "          intercept_scaling=1, max_iter=100, multi_class='ovr', n_jobs=1,\n",
       "          penalty='l2', random_state=None, solver='liblinear', tol=0.0001,\n",
       "          verbose=0, warm_start=False)"
      ]
     },
     "execution_count": 74,
     "metadata": {},
     "output_type": "execute_result"
    }
   ],
   "source": [
    "from sklearn.linear_model import LogisticRegression\n",
    "from sklearn.metrics import make_scorer, roc_auc_score, accuracy_score\n",
    "from sklearn.model_selection import GridSearchCV\n",
    "\n",
    "# Choose the type of classifier. \n",
    "clf = LogisticRegression()\n",
    "\n",
    "# Choose some parameter combinations to try\n",
    "param_grid = {'penalty':['l1','l2'],\n",
    "               'C':[0.5,1,5,10],\n",
    "               'solver':['liblinear']\n",
    "             }\n",
    "\n",
    "# Type of scoring used to compare parameter combinations\n",
    "acc_scorer = make_scorer(roc_auc_score)\n",
    "\n",
    "# Run the grid search\n",
    "# read theory\n",
    "grid_obj = GridSearchCV(clf, param_grid, cv=5, scoring=acc_scorer)\n",
    "grid_obj = grid_obj.fit(x_train, target_train)\n",
    "\n",
    "# Set the clf to the best combination of parameters\n",
    "clf = grid_obj.best_estimator_\n",
    "\n",
    "# Fit the best algorithm to the data. \n",
    "clf.fit(x_train, target_train)"
   ]
  },
  {
   "cell_type": "code",
   "execution_count": 75,
   "metadata": {},
   "outputs": [
    {
     "name": "stdout",
     "output_type": "stream",
     "text": [
      "              train      test\n",
      "metrics                      \n",
      "AUC        0.918333  0.915067\n",
      "Accuracy   0.839352  0.835880\n",
      "Precision  0.822957  0.820760\n",
      "Recall     0.849009  0.844846\n",
      "f1-score   0.835780  0.832629\n"
     ]
    },
    {
     "data": {
      "image/png": "[encoded data removed]",
      "text/plain": [
       "<matplotlib.figure.Figure at 0x1270fad90>"
      ]
     },
     "metadata": {},
     "output_type": "display_data"
    }
   ],
   "source": [
    "# Train test model\n",
    "train_test_model(clf, x_train, target_train, x_test, target_test)"
   ]
  },
  {
   "cell_type": "markdown",
   "metadata": {},
   "source": [
    "### Naive Bayes Classifier"
   ]
  },
  {
   "cell_type": "code",
   "execution_count": 76,
   "metadata": {},
   "outputs": [
    {
     "data": {
      "text/plain": [
       "MultinomialNB(alpha=2, class_prior=None, fit_prior=True)"
      ]
     },
     "execution_count": 76,
     "metadata": {},
     "output_type": "execute_result"
    }
   ],
   "source": [
    "from sklearn.naive_bayes import MultinomialNB\n",
    "from sklearn.metrics import make_scorer, roc_auc_score, accuracy_score\n",
    "from sklearn.model_selection import GridSearchCV\n",
    "\n",
    "# Choose the type of classifier. \n",
    "clf = MultinomialNB()\n",
    "\n",
    "# Choose some parameter combinations to try\n",
    "param_grid = {'alpha':[0.5,1,2]\n",
    "             }\n",
    "\n",
    "# Type of scoring used to compare parameter combinations\n",
    "acc_scorer = make_scorer(roc_auc_score)\n",
    "\n",
    "# Run the grid search\n",
    "# read theory\n",
    "grid_obj = GridSearchCV(clf, param_grid, cv=5, scoring=acc_scorer)\n",
    "grid_obj = grid_obj.fit(x_train, target_train)\n",
    "\n",
    "# Set the clf to the best combination of parameters\n",
    "clf = grid_obj.best_estimator_\n",
    "\n",
    "# Fit the best algorithm to the data. \n",
    "clf.fit(x_train, target_train)"
   ]
  },
  {
   "cell_type": "code",
   "execution_count": 77,
   "metadata": {},
   "outputs": [
    {
     "name": "stdout",
     "output_type": "stream",
     "text": [
      "              train      test\n",
      "metrics                      \n",
      "AUC        0.891343  0.891471\n",
      "Accuracy   0.809617  0.809802\n",
      "Precision  0.782690  0.783122\n",
      "Recall     0.836992  0.838625\n",
      "f1-score   0.808931  0.809924\n"
     ]
    },
    {
     "data": {
      "image/png": "[encoded data removed]",
      "text/plain": [
       "<matplotlib.figure.Figure at 0x10df28210>"
      ]
     },
     "metadata": {},
     "output_type": "display_data"
    }
   ],
   "source": [
    "train_test_model(clf, x_train, target_train, x_test, target_test)"
   ]
  },
  {
   "cell_type": "markdown",
   "metadata": {},
   "source": [
    "### Random Forest Classifier"
   ]
  },
  {
   "cell_type": "code",
   "execution_count": null,
   "metadata": {},
   "outputs": [],
   "source": [
    "from sklearn.ensemble import RandomForestClassifier\n",
    "from sklearn.metrics import make_scorer, roc_auc_score, accuracy_score\n",
    "from sklearn.model_selection import GridSearchCV\n",
    "\n",
    "# Choose the type of classifier. \n",
    "clf = RandomForestClassifier()\n",
    "\n",
    "# Choose some parameter combinations to try\n",
    "param_grid = {'n_estimators': [100,200], \n",
    "              'max_features': ['auto'], \n",
    "              'criterion': ['gini'],\n",
    "              'max_depth': [8,16,32], \n",
    "              'min_samples_split': [5,10,20,60],\n",
    "              'min_samples_leaf': [2,5,10,20],\n",
    "              'n_jobs':[-1]\n",
    "             }\n",
    "\n",
    "# Type of scoring used to compare parameter combinations\n",
    "acc_scorer = make_scorer(roc_auc_score)\n",
    "\n",
    "# Run the grid search\n",
    "# read theory\n",
    "grid_obj = GridSearchCV(clf, param_grid, cv=5, scoring=acc_scorer)\n",
    "grid_obj = grid_obj.fit(x_train, target_train)\n",
    "\n",
    "# Set the clf to the best combination of parameters\n",
    "clf = grid_obj.best_estimator_\n",
    "\n",
    "# Fit the best algorithm to the data. \n",
    "clf.fit(x_train, target_train)"
   ]
  },
  {
   "cell_type": "code",
   "execution_count": null,
   "metadata": {},
   "outputs": [],
   "source": [
    "train_test_model(clf, x_train, target_train, x_test, target_test)"
   ]
  },
  {
   "cell_type": "code",
   "execution_count": null,
   "metadata": {},
   "outputs": [],
   "source": [
    "print('hello world')"
   ]
  }
 ],
 "metadata": {
  "anaconda-cloud": {},
  "kernelspec": {
   "display_name": "Python 2",
   "language": "python",
   "name": "python2"
  },
  "language_info": {
   "codemirror_mode": {
    "name": "ipython",
    "version": 2
   },
   "file_extension": ".py",
   "mimetype": "text/x-python",
   "name": "python",
   "nbconvert_exporter": "python",
   "pygments_lexer": "ipython2",
   "version": "2.7.15"
  }
 },
 "nbformat": 4,
 "nbformat_minor": 1
}
